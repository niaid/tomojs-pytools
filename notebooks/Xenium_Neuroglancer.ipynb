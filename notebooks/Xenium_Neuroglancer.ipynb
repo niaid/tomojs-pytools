{
 "cells": [
  {
   "cell_type": "code",
   "id": "8817a226-bbdd-4e0b-b885-37175548c6bb",
   "metadata": {},
   "source": [
    "import neuroglancer.static_file_server\n",
    "from pytools.ng.viz import add_zarr_image, add_roi_annotations\n",
    "from pytools import HedwigZarrImages\n",
    "from pathlib import Path\n",
    "\n",
    "%matplotlib inline\n",
    "import matplotlib.pyplot as plt\n",
    "\n",
    "import SimpleITK as sitk\n",
    "import json"
   ],
   "outputs": [],
   "execution_count": null
  },
  {
   "cell_type": "code",
   "id": "c476f449-95e7-4618-af26-5e3f10cec2f2",
   "metadata": {},
   "source": [
    "file_dir = Path(\"/Users/blowekamp/scratch/hedwig/Xenium/\")\n",
    "server = neuroglancer.static_file_server.StaticFileServer(\n",
    "        static_dir=file_dir, bind_address=\"localhost\", daemon=True\n",
    "    )\n",
    "viewer = neuroglancer.Viewer()"
   ],
   "outputs": [],
   "execution_count": null
  },
  {
   "cell_type": "code",
   "id": "ec6de776-aaf9-46a4-8c53-1e9fa259310b",
   "metadata": {},
   "source": [
    "with viewer.txn() as s:\n",
    "  dimensions = neuroglancer.CoordinateSpace( names=[\"x\", \"y\", \"z\"], units =[\"µm\",\"µm\", \"µm\"], scales=[1,1,1])\n",
    "  s.dimensions = dimensions\n",
    "  s.layout = neuroglancer.DataPanelLayout(\"xy\")\n",
    "  s.show_axis_lines = False\n",
    "  s.show_default_annotations = False  \n",
    "  \n",
    "  s.layers.clear()\n",
    "\n",
    "  i=0  \n",
    "  while True:\n",
    "    fn =   file_dir/\"2025_05_27_Female002.zarr\"/f\"{i}\"\n",
    "    if fn.exists():\n",
    "      print(f\"Adding {fn}...\")\n",
    "      add_zarr_image(s, fn, server_url=server.url)\n",
    "    else:\n",
    "      break\n",
    "    i += 1    \n",
    "\n",
    "print(viewer)"
   ],
   "outputs": [],
   "execution_count": null
  },
  {
   "cell_type": "code",
   "id": "c241dd3c-30b0-4703-bae1-ceb4c429d147",
   "metadata": {},
   "source": [
    "with viewer.txn() as s:\n",
    "  dimensions = neuroglancer.CoordinateSpace( names=[\"x\", \"y\", \"z\"], units =[\"µm\",\"µm\", \"µm\"], scales=[1,1,1])\n",
    "  s.dimensions = dimensions\n",
    "  s.layout = neuroglancer.DataPanelLayout(\"xy\")\n",
    "  s.show_axis_lines = False\n",
    "  s.show_default_annotations = False  \n",
    "  \n",
    "  s.layers.clear()\n",
    "\n",
    "  i=0  \n",
    "  while True:\n",
    "    fn =   file_dir/\"2025_05_14_0437_UF_DAPI_20X_Female.zarr\"/f\"{i}\"\n",
    "    if fn.exists():\n",
    "      print(f\"Adding {fn}...\")\n",
    "      add_zarr_image(s, fn, server_url=server.url)\n",
    "    else:\n",
    "      break\n",
    "    i += 1    \n",
    "\n",
    "print(viewer)"
   ],
   "outputs": [],
   "execution_count": null
  },
  {
   "metadata": {},
   "cell_type": "code",
   "source": "",
   "id": "b02182a93f5829d7",
   "outputs": [],
   "execution_count": null
  },
  {
   "cell_type": "code",
   "id": "00c4c9ac-4bcf-4e23-aea5-cb3f3fcc34be",
   "metadata": {},
   "source": [
    "def describe_zarr_ome_xml(fn: Path):\n",
    "    hwz_images = HedwigZarrImages(fn)\n",
    "    ome_info = hwz_images.ome_info\n",
    "    for image_index in range(ome_info.number_of_images()):\n",
    "        image_et = ome_info._image_element(image_index)\n",
    "        \n",
    "        print(f\"Name: \\\"{list(ome_info.image_names())[image_index]}\\\"\")\n",
    "        el = ome_info._image_element(image_index).iterfind(\"OME:Pixels/OME:Channel\", ome_info._ome_ns)\n",
    "        \n",
    "        for i, e in enumerate(el):\n",
    "            channel_line = f\"\\tChannel: {i}\"\n",
    "            for a in [\"Name\", \"Flour\", \"IlluminationType\"]:\n",
    "                if a in e.attrib:\n",
    "                    channel_line += f\" {a}: \\\"{e.attrib[a]}\\\"\"\n",
    "            print(channel_line)        \n",
    "        print(f\"\\tDimension Order: {ome_info.dimension_order(image_index)}\")\n",
    "        print(f\"\\tSize: {ome_info.size(image_index)}\")\n",
    "        print(f\"\\tSpacing/PhysicalSize: {ome_info.size(image_index)}\")\n",
    "        print(f\"\\tType: {image_et.find('OME:Pixels', ome_info._ome_ns).attrib['Type']}\")\n",
    "        print(f\"\\tShader Type: {hwz_images[image_index].shader_type}\")\n",
    "\n",
    "    return hwz_images\n",
    "        "
   ],
   "outputs": [],
   "execution_count": null
  },
  {
   "cell_type": "code",
   "id": "3f56b6f5-0ae6-4bfa-8779-24711ccc6e12",
   "metadata": {},
   "source": [
    "hwz_images = describe_zarr_ome_xml(file_dir/\"2025_05_27_Female002.zarr\")\n",
    "if \"label image\" in hwz_images. get_series_keys():\n",
    "    sitk_image = hwz_images[\"label image\"].extract_2d(512,512, auto_uint8=True)\n",
    "    # Rotate the image 90 CW\n",
    "    sitk_image = sitk.Flip(sitk.PermuteAxes(sitk_image, [1, 0]), [True, False])\n",
    "    plt.imshow(sitk.GetArrayViewFromImage(sitk_image))\n",
    "\n",
    "for hw_image in hwz_images:\n",
    "    print(hw_image.neuroglancer_shader_parameters(middle_quantile=[0.04, 1.0] ))\n"
   ],
   "outputs": [],
   "execution_count": null
  },
  {
   "metadata": {},
   "cell_type": "code",
   "source": "",
   "id": "92390d139b67c1be",
   "outputs": [],
   "execution_count": null
  },
  {
   "cell_type": "code",
   "id": "3b511878-fbe9-4434-8a57-0ee396468c3f",
   "metadata": {},
   "source": [
    "fn = file_dir/\"2025_05_14_0437_UF_DAPI_20X_Female.zarr\"\n",
    "\n",
    "hwz_images = describe_zarr_ome_xml(fn)\n",
    "for name in hwz_images.get_series_keys():\n",
    "    params = hwz_images[name].neuroglancer_shader_parameters(middle_quantile=[0.04, 1.0] )\n",
    "    # save each params to the fn name but _{name}.json instead of .zarr\n",
    "    with open(fn.with_name(fn.name + f\"_{name}.json\"), \"w\") as f:\n",
    "        json.dump(params, f, indent=2)"
   ],
   "outputs": [],
   "execution_count": null
  },
  {
   "cell_type": "code",
   "id": "75530c84-e485-4fe6-a818-849465e4ea4b",
   "metadata": {},
   "source": [],
   "outputs": [],
   "execution_count": null
  }
 ],
 "metadata": {
  "kernelspec": {
   "display_name": "Python 3 (ipykernel)",
   "language": "python",
   "name": "python3"
  },
  "language_info": {
   "codemirror_mode": {
    "name": "ipython",
    "version": 3
   },
   "file_extension": ".py",
   "mimetype": "text/x-python",
   "name": "python",
   "nbconvert_exporter": "python",
   "pygments_lexer": "ipython3",
   "version": "3.9.12"
  }
 },
 "nbformat": 4,
 "nbformat_minor": 5
}
